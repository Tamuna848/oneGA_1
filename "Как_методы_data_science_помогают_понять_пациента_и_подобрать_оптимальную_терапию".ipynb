{
  "nbformat": 4,
  "nbformat_minor": 0,
  "metadata": {
    "colab": {
      "provenance": [],
      "authorship_tag": "ABX9TyP/+FuuRz+GV8agnlwbVKUH",
      "include_colab_link": true
    },
    "kernelspec": {
      "name": "python3",
      "display_name": "Python 3"
    },
    "language_info": {
      "name": "python"
    }
  },
  "cells": [
    {
      "cell_type": "markdown",
      "metadata": {
        "id": "view-in-github",
        "colab_type": "text"
      },
      "source": [
        "<a href=\"https://colab.research.google.com/github/Tamuna848/oneGA_1/blob/main/%22%D0%9A%D0%B0%D0%BA_%D0%BC%D0%B5%D1%82%D0%BE%D0%B4%D1%8B_data_science_%D0%BF%D0%BE%D0%BC%D0%BE%D0%B3%D0%B0%D1%8E%D1%82_%D0%BF%D0%BE%D0%BD%D1%8F%D1%82%D1%8C_%D0%BF%D0%B0%D1%86%D0%B8%D0%B5%D0%BD%D1%82%D0%B0_%D0%B8_%D0%BF%D0%BE%D0%B4%D0%BE%D0%B1%D1%80%D0%B0%D1%82%D1%8C_%D0%BE%D0%BF%D1%82%D0%B8%D0%BC%D0%B0%D0%BB%D1%8C%D0%BD%D1%83%D1%8E_%D1%82%D0%B5%D1%80%D0%B0%D0%BF%D0%B8%D1%8E%22.ipynb\" target=\"_parent\"><img src=\"https://colab.research.google.com/assets/colab-badge.svg\" alt=\"Open In Colab\"/></a>"
      ]
    },
    {
      "cell_type": "code",
      "execution_count": null,
      "metadata": {
        "id": "3jqx95-Th-XQ"
      },
      "outputs": [],
      "source": [
        "import pandas as pd\n",
        "import numpy as np\n",
        "from sklearn.preprocessing import LabelEncoder\n",
        "from sklearn.model_selection import train_test_split\n",
        "from sklearn.neural_network import MLPClassifier\n",
        "from sklearn.metrics import accuracy_score"
      ]
    },
    {
      "cell_type": "code",
      "source": [
        "patients_df = pd.read_csv('patients.csv')\n",
        "symptoms_df = pd.read_csv('symptoms.csv')\n",
        "tests_df = pd.read_csv('tests.csv')"
      ],
      "metadata": {
        "id": "PLu89LiFjzHp"
      },
      "execution_count": null,
      "outputs": []
    },
    {
      "cell_type": "code",
      "source": [
        "data = pd.read_csv('therapy_data.csv')"
      ],
      "metadata": {
        "id": "A7PI1z6XklAf"
      },
      "execution_count": null,
      "outputs": []
    },
    {
      "cell_type": "code",
      "source": [
        "\n",
        "# Объединение данных в один датасет\n",
        "data = patients_df.merge(symptoms_df, on='patient_id').merge(tests_df, on='patient_id')\n"
      ],
      "metadata": {
        "id": "lntrLrzij9oX"
      },
      "execution_count": null,
      "outputs": []
    },
    {
      "cell_type": "code",
      "source": [
        "# Заполнение пропущенных значений\n",
        "data = data.fillna(0)"
      ],
      "metadata": {
        "id": "txT_7t1lkDXE"
      },
      "execution_count": null,
      "outputs": []
    },
    {
      "cell_type": "code",
      "source": [
        "# Преобразование категориальных признаков\n",
        "encoder = LabelEncoder()\n",
        "data['gender'] = encoder.fit_transform(data['gender'])\n"
      ],
      "metadata": {
        "id": "9F0qthjCkRcC"
      },
      "execution_count": null,
      "outputs": []
    },
    {
      "cell_type": "code",
      "source": [
        "# Нормализация числовых признаков\n",
        "from sklearn.preprocessing import MinMaxScaler\n",
        "scaler = MinMaxScaler()\n",
        "data['age'] = scaler.fit_transform(data['age'].values.reshape(-1,1))\n"
      ],
      "metadata": {
        "id": "eWhL7uBVkUwx"
      },
      "execution_count": null,
      "outputs": []
    },
    {
      "cell_type": "code",
      "source": [
        "# Разделение данных на признаки и целевую переменную\n",
        "X = data.drop('therapy_effectiveness', axis=1)\n",
        "y = data['therapy_effectiveness']"
      ],
      "metadata": {
        "id": "neUA0OjBkWhU"
      },
      "execution_count": null,
      "outputs": []
    },
    {
      "cell_type": "code",
      "source": [
        "\n",
        "# Разделение данных на обучающую и тестовую выборки\n",
        "X = data[['age', 'gender', 'symptoms', ...]]\n",
        "y = data['therapy_effectiveness']\n",
        "X_train, X_test, y_train, y_test = train_test_split(X, y, test_size=0.2)"
      ],
      "metadata": {
        "id": "B_eqPtY9kbgP"
      },
      "execution_count": null,
      "outputs": []
    },
    {
      "cell_type": "code",
      "source": [
        "# Создание и обучение нейронной сети\n",
        "mlp = MLPClassifier(hidden_layer_sizes=(100,50))\n",
        "mlp.fit(X_train, y_train)"
      ],
      "metadata": {
        "id": "-x-73e13k5Cz"
      },
      "execution_count": null,
      "outputs": []
    },
    {
      "cell_type": "code",
      "source": [
        "# Оценка качества обучения на тестовых данных\n",
        "print(mlp.score(X_test, y_test))\n"
      ],
      "metadata": {
        "id": "20n4XDPzk6I6"
      },
      "execution_count": null,
      "outputs": []
    },
    {
      "cell_type": "code",
      "source": [
        "# Прогноз для нового пациента\n",
        "patient_data = [[25, 'male', [1,3,5], ...]]\n",
        "prediction = mlp.predict(patient_data)\n",
        "print(prediction)"
      ],
      "metadata": {
        "id": "6wtqimH9k9kK"
      },
      "execution_count": null,
      "outputs": []
    },
    {
      "cell_type": "code",
      "source": [
        "# Прогноз эффективности терапий для нового пациента\n",
        "therapies = ['cognitive', 'behavioral', 'psychodynamic']\n",
        "predictions = model.predict_proba([new_patient])[0]\n",
        "recommended_therapy = therapies[predictions.argmax()]"
      ],
      "metadata": {
        "id": "kTmlusWqliCB"
      },
      "execution_count": null,
      "outputs": []
    },
    {
      "cell_type": "code",
      "source": [
        "print(f'Рекомендуемая терапия для пациента: {recommended_therapy}')"
      ],
      "metadata": {
        "id": "PZxSDrSfljRn"
      },
      "execution_count": null,
      "outputs": []
    },
    {
      "cell_type": "code",
      "source": [
        "# Вывод прогнозируемой эффективности всех рассмотренных терапий\n",
        "for therapy, prediction in zip(therapies, predictions):\n",
        "    print(f'{therapy}: {prediction*100:.1f}%')"
      ],
      "metadata": {
        "id": "HIIqqsZClnve"
      },
      "execution_count": null,
      "outputs": []
    },
    {
      "cell_type": "code",
      "source": [
        "# 3. Применение модели для персонализированного подбора терапии\n",
        "\n",
        "new_patient_data = [32, 'male', [1, 3, 5], [2, 42, 10]]\n",
        "\n",
        "therapies = ['cognitive', 'behavioral', 'psychodynamic']\n",
        "\n",
        "predictions = mlp.predict_proba([new_patient_data])\n",
        "recommended_therapy = therapies[predictions.argmax()]\n",
        "\n",
        "print('Рекомендуемая терапия:', recommended_therapy)"
      ],
      "metadata": {
        "id": "SK_YbGESlrwq"
      },
      "execution_count": null,
      "outputs": []
    },
    {
      "cell_type": "code",
      "source": [],
      "metadata": {
        "id": "h608DLhjmAh6"
      },
      "execution_count": null,
      "outputs": []
    }
  ]
}